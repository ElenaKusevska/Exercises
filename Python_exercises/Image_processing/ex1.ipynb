{
 "cells": [
  {
   "cell_type": "code",
   "execution_count": 3,
   "metadata": {},
   "outputs": [],
   "source": [
    "import PIL\n",
    "#import matplotlib.pyplot"
   ]
  },
  {
   "cell_type": "code",
   "execution_count": 33,
   "metadata": {},
   "outputs": [
    {
     "name": "stdout",
     "output_type": "stream",
     "text": [
      "<PIL.JpegImagePlugin.JpegImageFile image mode=RGB size=852x480 at 0x7F871A54E438>\n",
      "JPEG\n",
      "RGB\n",
      "<bound method Image.getdata of <PIL.JpegImagePlugin.JpegImageFile image mode=RGB size=852x480 at 0x7F871A54E438>>\n",
      "<ImagingCore object at 0x7f871c474890>\n"
     ]
    }
   ],
   "source": [
    "#%matplotlib inline\n",
    "pic = PIL.Image.open(\"1.jpg\")\n",
    "print(pic)\n",
    "print(pic.format)\n",
    "print(pic.mode)\n",
    "print(pic.getdata)\n",
    "print(pic.getdata())"
   ]
  },
  {
   "cell_type": "code",
   "execution_count": 25,
   "metadata": {
    "scrolled": false
   },
   "outputs": [
    {
     "name": "stdout",
     "output_type": "stream",
     "text": [
      "852\n",
      "480\n"
     ]
    }
   ],
   "source": [
    "# Using python list:\n",
    "pic_pixel_mat = []\n",
    "pic_pixel_line = []\n",
    "for pixel in iter(pic.getdata()):\n",
    "    pic_pixel_line.append(pixel)\n",
    "    if len(pic_pixel_line)%852 == 0:\n",
    "        pic_pixel_mat.append(pic_pixel_line)\n",
    "        pic_pixel_line = []\n",
    "print(len(pic_pixel_mat[1]))\n",
    "print(len(pic_pixel_mat))"
   ]
  },
  {
   "cell_type": "code",
   "execution_count": 27,
   "metadata": {},
   "outputs": [],
   "source": [
    "pic.show()"
   ]
  },
  {
   "cell_type": "code",
   "execution_count": null,
   "metadata": {},
   "outputs": [],
   "source": []
  }
 ],
 "metadata": {
  "kernelspec": {
   "display_name": "Python 3",
   "language": "python",
   "name": "python3"
  },
  "language_info": {
   "codemirror_mode": {
    "name": "ipython",
    "version": 3
   },
   "file_extension": ".py",
   "mimetype": "text/x-python",
   "name": "python",
   "nbconvert_exporter": "python",
   "pygments_lexer": "ipython3",
   "version": "3.6.9"
  }
 },
 "nbformat": 4,
 "nbformat_minor": 4
}
